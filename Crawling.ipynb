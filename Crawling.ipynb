{
 "cells": [
  {
   "cell_type": "markdown",
   "id": "7aade78a",
   "metadata": {},
   "source": [
    "# 1. Git\n",
    "* 버전관리 시스템의 종류\n",
    "* 버전관리: 여러 파일을 하나의 버전으로 묶어 관리하는 것"
   ]
  },
  {
   "cell_type": "markdown",
   "id": "3d862097",
   "metadata": {},
   "source": [
    "### 1-1. 버전관리 시스템의 종류\n",
    "1. 클라이언트 - 서버 모델: 하나의 중앙 서버로 여러 클라이언트들이 각자 필요한 것만 가져와서 작업을 하고 다시 중앙 서버로 보내서 통합하는 방식(SVN, CVS)\n",
    "2. 분산 모델: 하나의 중앙 서버가 존재하지만, 여러 클라이언트들은 각자의 컴퓨터의 저장소에 전체 사본을 가지고 작업하는 방식(Git)"
   ]
  },
  {
   "cell_type": "markdown",
   "id": "6d5d43f5",
   "metadata": {},
   "source": [
    "### 1-2. Git의 장점\n",
    "* 동시에 작업하는 사람들과 소스코드를 주고받을 필요가 없음\n",
    "* 같은 파일을 여러명이 동시에 병렬 개발이 가능\n",
    "* 변동 과정을 체계적으로 관리할 수 있고, 언제든지 지난 시점의 버전으로 되돌릴 수 있음\n",
    "* 인터넷이 연결되지 않은 곳에서도 개발을 진행할 수 있고, 중앙 서버의 데이터가 유실되어도 다시 복구할 수 있음"
   ]
  },
  {
   "cell_type": "markdown",
   "id": "6e8ca380",
   "metadata": {},
   "source": [
    "### 1-3. Git 설치\n",
    "1. 구글에서 'git 설치' 검색\n",
    "2. 왼쪽 메뉴에서 downloads를 클릭(https://git-scm.com/downloads)\n",
    "3. 모니터 이미지에 있는 다운로드 버튼을 클릭\n",
    "4. 64-Bit Git for Windows Setup. 클릭 후 다운로드 및 설치(기본 설정)\n",
    "5. 설치가 끝난 후 git bash를 실행 -> git --version 명령으로 버전을 확인"
   ]
  },
  {
   "cell_type": "markdown",
   "id": "e7a54afc",
   "metadata": {},
   "source": [
    "# 2. Git 명령어"
   ]
  },
  {
   "cell_type": "markdown",
   "id": "f6b8e83e",
   "metadata": {},
   "source": [
    "### 2-1. 프로젝트 디렉토리 내 '로컬 저장소'를 생성하기\n",
    "* 원하는 프로젝트 위치로 이동 후 'git init'를 실행"
   ]
  },
  {
   "cell_type": "code",
   "execution_count": 12,
   "id": "29ad4d1a",
   "metadata": {},
   "outputs": [
    {
     "name": "stdout",
     "output_type": "stream",
     "text": [
      "Reinitialized existing Git repository in C:/Users/min12/jupyter-git/.git/\n"
     ]
    }
   ],
   "source": [
    "!git init"
   ]
  },
  {
   "cell_type": "markdown",
   "id": "eae8e974-de83-450c-8777-6eaa2e953113",
   "metadata": {},
   "source": [
    "### 2-2. 버전을 관리할 파일을 선택(stage에 올림)"
   ]
  },
  {
   "cell_type": "code",
   "execution_count": 14,
   "id": "79ec0635",
   "metadata": {},
   "outputs": [],
   "source": [
    "!git config --global core.autocrif true"
   ]
  },
  {
   "cell_type": "code",
   "execution_count": 20,
   "id": "3d7b4214",
   "metadata": {},
   "outputs": [],
   "source": [
    "!git add test.txt"
   ]
  },
  {
   "cell_type": "markdown",
   "id": "6d52646d-ba3a-45eb-aa05-5ff3cec85777",
   "metadata": {},
   "source": [
    "### 2-3. 하나의 버전으로 만들기\n",
    "* 로컬 시스템에서 파일을 생성/수정/삭제한 파일들을 선별하여 버전을 만드는 것\n",
    "* 파일이 변경될 때 변경 사항은 자동으로 저장되지 않음\n",
    "* git에게 새 commit을 생성하여 변경 사항을 저장하도록 지시"
   ]
  },
  {
   "cell_type": "code",
   "execution_count": 6,
   "id": "2b255d82",
   "metadata": {},
   "outputs": [
    {
     "name": "stdout",
     "output_type": "stream",
     "text": [
      "[master (root-commit) 11c59ed] first!\n",
      " 2 files changed, 238 insertions(+)\n",
      " create mode 100644 .ipynb_checkpoints/Crawling-checkpoint.ipynb\n",
      " create mode 100644 Crawling.ipynb\n"
     ]
    }
   ],
   "source": [
    "!git commit -m \"first!\""
   ]
  },
  {
   "cell_type": "markdown",
   "id": "cd66f572-03c0-4b06-ab6f-96b5e0519bd3",
   "metadata": {},
   "source": [
    "### 2-4. 로그 확인하기"
   ]
  },
  {
   "cell_type": "code",
   "execution_count": 7,
   "id": "7a17aae7",
   "metadata": {},
   "outputs": [
    {
     "name": "stdout",
     "output_type": "stream",
     "text": [
      "commit 11c59ed5afd8359737655eb2ea156d3c710587a1\n",
      "Author: million039 <fomalhaut398@gmail.com>\n",
      "Date:   Mon Sep 30 21:45:27 2024 +0900\n",
      "\n",
      "    first!\n"
     ]
    }
   ],
   "source": [
    "!git log"
   ]
  },
  {
   "cell_type": "code",
   "execution_count": 10,
   "id": "c14b2ae4",
   "metadata": {},
   "outputs": [
    {
     "name": "stderr",
     "output_type": "stream",
     "text": [
      "fatal: pathspec 'Crawling' did not match any files\n"
     ]
    }
   ],
   "source": [
    "!git add ."
   ]
  },
  {
   "cell_type": "code",
   "execution_count": 11,
   "id": "75d5f048",
   "metadata": {},
   "outputs": [
    {
     "name": "stdout",
     "output_type": "stream",
     "text": [
      "[master f7532d5] second22\n",
      " 2 files changed, 54 insertions(+), 6 deletions(-)\n",
      " create mode 100644 README.md\n"
     ]
    }
   ],
   "source": [
    "!git commit -m \"second22\""
   ]
  },
  {
   "cell_type": "code",
   "execution_count": 24,
   "id": "bef2a6a3",
   "metadata": {},
   "outputs": [
    {
     "name": "stdout",
     "output_type": "stream",
     "text": [
      "commit ca3b6a263d6209f27b048ef09874c4a6ce11f369\n",
      "Author: million039 <fomalhaut398@gmail.com>\n",
      "Date:   Wed Oct 2 19:57:40 2024 +0900\n",
      "\n",
      "    thriddd\n",
      "\n",
      "commit f7532d52557cd0d3dbe60d54a358f2072fa26232\n",
      "Author: million039 <fomalhaut398@gmail.com>\n",
      "Date:   Mon Sep 30 21:49:34 2024 +0900\n",
      "\n",
      "    second22\n",
      "\n",
      "commit 11c59ed5afd8359737655eb2ea156d3c710587a1\n",
      "Author: million039 <fomalhaut398@gmail.com>\n",
      "Date:   Mon Sep 30 21:45:27 2024 +0900\n",
      "\n",
      "    first!\n"
     ]
    }
   ],
   "source": [
    "!git log"
   ]
  },
  {
   "cell_type": "code",
   "execution_count": 22,
   "id": "8faf9b5c-f5ed-47af-9618-afbf641240d4",
   "metadata": {},
   "outputs": [
    {
     "name": "stdout",
     "output_type": "stream",
     "text": [
      "[master ca3b6a2] thriddd\n",
      " 1 file changed, 1 insertion(+)\n",
      " create mode 100644 test.txt\n"
     ]
    }
   ],
   "source": [
    "!git commit -m \"thriddd\""
   ]
  },
  {
   "cell_type": "code",
   "execution_count": 3,
   "id": "7cb491bc-5094-4c5e-ad44-ae27cd651537",
   "metadata": {},
   "outputs": [],
   "source": [
    "!git remote add origin https://github.com/million039/img-data-crawling.git"
   ]
  },
  {
   "cell_type": "code",
   "execution_count": null,
   "id": "8404c006-5872-405a-9423-0989d501dd93",
   "metadata": {},
   "outputs": [],
   "source": [
    "!git push -u origin"
   ]
  },
  {
   "cell_type": "markdown",
   "id": "cf02b916-013c-4afd-a0de-1ac78159fb85",
   "metadata": {},
   "source": [
    "### 2-5. README.md 만들기\n",
    "* Github에 업로드시 저장소 메인 설명글로 사용되는 파일\n",
    "* Markdown으로 작성"
   ]
  },
  {
   "cell_type": "code",
   "execution_count": null,
   "id": "30cce4f9-09b4-483f-ab2b-a58af3e4c7c7",
   "metadata": {},
   "outputs": [],
   "source": [
    "!git clone https://github.com/million039/img-data-crawling.git"
   ]
  },
  {
   "cell_type": "markdown",
   "id": "7ce066db-608e-47a9-a5d6-9bed2c04dddb",
   "metadata": {},
   "source": [
    "!git clone https://github.com/million039/img-data-crawling.git"
   ]
  },
  {
   "cell_type": "markdown",
   "id": "b91b2d8f-bba3-4088-be18-e990e3b4185e",
   "metadata": {},
   "source": [
    "# **4. 다른 사람과의 협업**\n",
    "원하는 Repository에서 -> Settings -> 왼쪽 메뉴에 collaborators -> Manage access에서 Add people 클릭 -> 이름 또는 이메일을 추가 -> 초대받은 계정의 메일에서 수락"
   ]
  },
  {
   "cell_type": "markdown",
   "id": "2055fccf-ceab-46f5-ba10-b47eda56f42f",
   "metadata": {},
   "source": [
    "### 4-1. Git Repository Fork\n",
    "* 하나의 Repository를 다른 계정(또는 네임스페이스)으로 복사\n",
    "* Git 명령어가 아닌 Github에서 제공하는 명령어\n",
    "* 다른 사람의 github 계정 Repository에서 "
   ]
  },
  {
   "cell_type": "code",
   "execution_count": null,
   "id": "236c082f-69c3-4660-861c-7a1fed1121cd",
   "metadata": {},
   "outputs": [],
   "source": []
  }
 ],
 "metadata": {
  "kernelspec": {
   "display_name": "Python 3 (ipykernel)",
   "language": "python",
   "name": "python3"
  },
  "language_info": {
   "codemirror_mode": {
    "name": "ipython",
    "version": 3
   },
   "file_extension": ".py",
   "mimetype": "text/x-python",
   "name": "python",
   "nbconvert_exporter": "python",
   "pygments_lexer": "ipython3",
   "version": "3.12.4"
  }
 },
 "nbformat": 4,
 "nbformat_minor": 5
}
