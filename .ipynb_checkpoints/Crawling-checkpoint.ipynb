{
 "cells": [
  {
   "cell_type": "markdown",
   "id": "7aade78a",
   "metadata": {},
   "source": [
    "# 1. Git\n",
    "* 버전관리 시스템의 종류\n",
    "* 버전관리: 여러 파일을 하나의 버전으로 묶어 관리하는 것"
   ]
  },
  {
   "cell_type": "markdown",
   "id": "3d862097",
   "metadata": {},
   "source": [
    "### 1-1. 버전관리 시스템의 종류\n",
    "1. 클라이언트 - 서버 모델: 하나의 중앙 서버로 여러 클라이언트들이 각자 필요한 것만 가져와서 작업을 하고 다시 중앙 서버로 보내서 통합하는 방식(SVN, CVS)\n",
    "2. 분산 모델: 하나의 중앙 서버가 존재하지만, 여러 클라이언트들은 각자의 컴퓨터의 저장소에 전체 사본을 가지고 작업하는 방식(Git)"
   ]
  },
  {
   "cell_type": "markdown",
   "id": "6d5d43f5",
   "metadata": {},
   "source": [
    "### 1-2. Git의 장점\n",
    "* 동시에 작업하는 사람들과 소스코드를 주고받을 필요가 없음\n",
    "* 같은 파일을 여러명이 동시에 병렬 개발이 가능\n",
    "* 변동 과정을 체계적으로 관리할 수 있고, 언제든지 지난 시점의 버전으로 되돌릴 수 있음\n",
    "* 인터넷이 연결되지 않은 곳에서도 개발을 진행할 수 있고, 중앙 서버의 데이터가 유실되어도 다시 복구할 수 있음"
   ]
  },
  {
   "cell_type": "markdown",
   "id": "6e8ca380",
   "metadata": {},
   "source": [
    "### 1-3. Git 설치\n",
    "1. 구글에서 'git 설치' 검색\n",
    "2. 왼쪽 메뉴에서 downloads를 클릭(https://git-scm.com/downloads)"
   ]
  },
  {
   "cell_type": "markdown",
   "id": "e7a54afc",
   "metadata": {},
   "source": [
    "# 2. Git 명령어"
   ]
  },
  {
   "cell_type": "markdown",
   "id": "f6b8e83e",
   "metadata": {},
   "source": [
    "### 2-1. 프로젝트 디렉토리 내 '로컬 저장소'를 생성하기\n",
    "* 원하는 프로젝트 위치로 이동 후 'git init'를 실행"
   ]
  },
  {
   "cell_type": "code",
   "execution_count": 1,
   "id": "29ad4d1a",
   "metadata": {},
   "outputs": [
    {
     "name": "stdout",
     "output_type": "stream",
     "text": [
      "Initialized empty Git repository in C:/Users/min12/jupyter-git/.git/\n"
     ]
    }
   ],
   "source": [
    "!git init"
   ]
  },
  {
   "cell_type": "code",
   "execution_count": 9,
   "id": "79ec0635",
   "metadata": {},
   "outputs": [],
   "source": [
    "!git config --global core.autocrif true"
   ]
  },
  {
   "cell_type": "code",
   "execution_count": 5,
   "id": "3d7b4214",
   "metadata": {},
   "outputs": [],
   "source": [
    "!git add ."
   ]
  },
  {
   "cell_type": "code",
   "execution_count": 6,
   "id": "2b255d82",
   "metadata": {},
   "outputs": [
    {
     "name": "stdout",
     "output_type": "stream",
     "text": [
      "[master (root-commit) 11c59ed] first!\n",
      " 2 files changed, 238 insertions(+)\n",
      " create mode 100644 .ipynb_checkpoints/Crawling-checkpoint.ipynb\n",
      " create mode 100644 Crawling.ipynb\n"
     ]
    }
   ],
   "source": [
    "!git commit -m \"first!\""
   ]
  },
  {
   "cell_type": "code",
   "execution_count": 7,
   "id": "7a17aae7",
   "metadata": {},
   "outputs": [
    {
     "name": "stdout",
     "output_type": "stream",
     "text": [
      "commit 11c59ed5afd8359737655eb2ea156d3c710587a1\n",
      "Author: million039 <fomalhaut398@gmail.com>\n",
      "Date:   Mon Sep 30 21:45:27 2024 +0900\n",
      "\n",
      "    first!\n"
     ]
    }
   ],
   "source": [
    "!git log"
   ]
  },
  {
   "cell_type": "code",
   "execution_count": 10,
   "id": "c14b2ae4",
   "metadata": {},
   "outputs": [],
   "source": [
    "!git add ."
   ]
  },
  {
   "cell_type": "code",
   "execution_count": 11,
   "id": "75d5f048",
   "metadata": {},
   "outputs": [
    {
     "name": "stdout",
     "output_type": "stream",
     "text": [
      "[master f7532d5] second22\n",
      " 2 files changed, 54 insertions(+), 6 deletions(-)\n",
      " create mode 100644 README.md\n"
     ]
    }
   ],
   "source": [
    "!git commit -m \"second22\""
   ]
  },
  {
   "cell_type": "code",
   "execution_count": 12,
   "id": "bef2a6a3",
   "metadata": {},
   "outputs": [
    {
     "name": "stdout",
     "output_type": "stream",
     "text": [
      "commit f7532d52557cd0d3dbe60d54a358f2072fa26232\n",
      "Author: million039 <fomalhaut398@gmail.com>\n",
      "Date:   Mon Sep 30 21:49:34 2024 +0900\n",
      "\n",
      "    second22\n",
      "\n",
      "commit 11c59ed5afd8359737655eb2ea156d3c710587a1\n",
      "Author: million039 <fomalhaut398@gmail.com>\n",
      "Date:   Mon Sep 30 21:45:27 2024 +0900\n",
      "\n",
      "    first!\n"
     ]
    }
   ],
   "source": [
    "!git log"
   ]
  },
  {
   "cell_type": "code",
   "execution_count": null,
   "id": "56ff55f3",
   "metadata": {},
   "outputs": [],
   "source": []
  }
 ],
 "metadata": {
  "kernelspec": {
   "display_name": "Python 3 (ipykernel)",
   "language": "python",
   "name": "python3"
  },
  "language_info": {
   "codemirror_mode": {
    "name": "ipython",
    "version": 3
   },
   "file_extension": ".py",
   "mimetype": "text/x-python",
   "name": "python",
   "nbconvert_exporter": "python",
   "pygments_lexer": "ipython3",
   "version": "3.10.9"
  }
 },
 "nbformat": 4,
 "nbformat_minor": 5
}
